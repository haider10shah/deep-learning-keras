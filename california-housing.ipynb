{
 "cells": [
  {
   "cell_type": "code",
   "execution_count": 1,
   "metadata": {
    "tags": []
   },
   "outputs": [
    {
     "output_type": "stream",
     "name": "stdout",
     "text": "2.3.0\n2.4.0\n"
    }
   ],
   "source": [
    "import tensorflow as tf\n",
    "from tensorflow import keras\n",
    "print(tf.__version__)\n",
    "print(keras.__version__)"
   ]
  },
  {
   "cell_type": "code",
   "execution_count": 22,
   "metadata": {},
   "outputs": [],
   "source": [
    "from sklearn.datasets import fetch_california_housing\n",
    "from sklearn.model_selection import train_test_split\n",
    "from sklearn.preprocessing import StandardScaler\n",
    "\n",
    "# Get the housing dataset\n",
    "housing = fetch_california_housing()\n",
    "\n",
    "# Split the dataset into training and testing\n",
    "X_train_full, X_test, y_train_full, y_test = train_test_split(housing.data, housing.target)\n",
    "\n",
    "# Split the train full set into validation and training set\n",
    "X_train, X_valid, y_train, y_valid = train_test_split(X_train_full, y_train_full)"
   ]
  },
  {
   "cell_type": "code",
   "execution_count": 23,
   "metadata": {},
   "outputs": [],
   "source": [
    "# Scaling the inputs using standard scaler\n",
    "scaler = StandardScaler()\n",
    "X_train = scaler.fit_transform(X_train)\n",
    "X_valid = scaler.transform(X_valid)\n",
    "X_test = scaler.transform(X_test)"
   ]
  },
  {
   "cell_type": "code",
   "execution_count": 24,
   "metadata": {
    "tags": []
   },
   "outputs": [],
   "source": [
    "# Since the dataset is noisy, we just use a single layer with fewer neurons to avoid overfitting\n",
    "# No activation needed for output layer as it is a regression problem\n",
    "model = keras.models.Sequential([\n",
    "    keras.layers.Dense(30, activation='relu', input_shape=X_train.shape[1:]),\n",
    "    keras.layers.Dense(1)\n",
    "])\n",
    "\n",
    "model.compile(loss='mean_squared_error', optimizer='sgd')"
   ]
  },
  {
   "cell_type": "code",
   "execution_count": 5,
   "metadata": {
    "tags": []
   },
   "outputs": [
    {
     "output_type": "stream",
     "name": "stdout",
     "text": "Model: \"sequential\"\n_________________________________________________________________\nLayer (type)                 Output Shape              Param #   \n=================================================================\ndense (Dense)                (None, 30)                270       \n_________________________________________________________________\ndense_1 (Dense)              (None, 1)                 31        \n=================================================================\nTotal params: 301\nTrainable params: 301\nNon-trainable params: 0\n_________________________________________________________________\n"
    }
   ],
   "source": [
    "model.summary()"
   ]
  },
  {
   "cell_type": "code",
   "execution_count": 6,
   "metadata": {
    "tags": []
   },
   "outputs": [
    {
     "output_type": "stream",
     "name": "stdout",
     "text": "Epoch 1/20\n363/363 [==============================] - 2s 5ms/step - loss: 1.0795 - val_loss: 0.6214\nEpoch 2/20\n363/363 [==============================] - 1s 4ms/step - loss: 0.5518 - val_loss: 0.4957\nEpoch 3/20\n363/363 [==============================] - 2s 5ms/step - loss: 0.4949 - val_loss: 0.4861\nEpoch 4/20\n363/363 [==============================] - 2s 5ms/step - loss: 0.4680 - val_loss: 0.4458\nEpoch 5/20\n363/363 [==============================] - 2s 5ms/step - loss: 0.4563 - val_loss: 0.4354\nEpoch 6/20\n363/363 [==============================] - 2s 5ms/step - loss: 0.4419 - val_loss: 0.4304\nEpoch 7/20\n363/363 [==============================] - 1s 4ms/step - loss: 0.4328 - val_loss: 0.4176\nEpoch 8/20\n363/363 [==============================] - 1s 4ms/step - loss: 0.4248 - val_loss: 0.4201\nEpoch 9/20\n363/363 [==============================] - 1s 4ms/step - loss: 0.4187 - val_loss: 0.4202\nEpoch 10/20\n363/363 [==============================] - 2s 4ms/step - loss: 0.4146 - val_loss: 0.4035\nEpoch 11/20\n363/363 [==============================] - 1s 4ms/step - loss: 0.4091 - val_loss: 0.4108\nEpoch 12/20\n363/363 [==============================] - 2s 4ms/step - loss: 0.4054 - val_loss: 0.3951\nEpoch 13/20\n363/363 [==============================] - 2s 4ms/step - loss: 0.4017 - val_loss: 0.3943\nEpoch 14/20\n363/363 [==============================] - 2s 4ms/step - loss: 0.3975 - val_loss: 0.3898\nEpoch 15/20\n363/363 [==============================] - 2s 5ms/step - loss: 0.3939 - val_loss: 0.3846\nEpoch 16/20\n363/363 [==============================] - 2s 4ms/step - loss: 0.3899 - val_loss: 0.3818\nEpoch 17/20\n363/363 [==============================] - 2s 5ms/step - loss: 0.3893 - val_loss: 0.3804\nEpoch 18/20\n363/363 [==============================] - 2s 5ms/step - loss: 0.3879 - val_loss: 0.3840\nEpoch 19/20\n363/363 [==============================] - 2s 4ms/step - loss: 0.3878 - val_loss: 0.3777\nEpoch 20/20\n363/363 [==============================] - 2s 5ms/step - loss: 0.3823 - val_loss: 0.3730\n"
    }
   ],
   "source": [
    "history = model.fit(X_train, y_train, epochs=20, validation_data=(X_valid, y_valid))"
   ]
  },
  {
   "cell_type": "code",
   "execution_count": 7,
   "metadata": {
    "tags": []
   },
   "outputs": [
    {
     "output_type": "stream",
     "name": "stdout",
     "text": "162/162 [==============================] - 0s 2ms/step - loss: 0.3790\n"
    }
   ],
   "source": [
    "# Evaluate the model on test dataset\n",
    "mse_test = model.evaluate(X_test, y_test)"
   ]
  },
  {
   "cell_type": "code",
   "execution_count": 8,
   "metadata": {
    "tags": []
   },
   "outputs": [
    {
     "output_type": "stream",
     "name": "stdout",
     "text": "[[4.102314 ]\n [1.3161762]\n [1.7214413]]\n[5.00001 1.      1.     ]\n"
    }
   ],
   "source": [
    "# Predicting new values using model.predict\n",
    "X_new = X_test[:3]\n",
    "y_pred = model.predict(X_new)\n",
    "print(y_pred)\n",
    "print(y_test[:3])"
   ]
  },
  {
   "cell_type": "code",
   "execution_count": 9,
   "metadata": {},
   "outputs": [],
   "source": [
    "# Building a non sequential model with Keras using the functional api\n",
    "# Wide and Deep neural network\n",
    "# It connects all or part of the inputs directly to the output layer\n",
    "# This makes it possible for the network to learn both deep patterns and simple rules using the short path\n",
    "# The short path can also be used to provide manually engineered features to the network\n",
    "# Simple patterns in the data might be distorted by sequence of transformations\n",
    "# Something like simple binary variables like [0, 1] might be sent through the short path\n",
    "\n",
    "# This layer defines what input we can get for the model, shape and dtypes\n",
    "input_ = keras.layers.Input(shape=X_train.shape[1:])\n",
    "\n",
    "# As soon as hidden 1 is created, we call it like a function (hence functional API) passing the input to that layer\n",
    "hidden1 = keras.layers.Dense(30, activation='relu')(input_)\n",
    "\n",
    "# hidden 1 connects to hidden 2\n",
    "hidden2 = keras.layers.Dense(30, activation='relu')(hidden1)\n",
    "\n",
    "# Concat layers concats the inputs from input layer and the hidden 2 layer into 1 layer\n",
    "concat = keras.layers.Concatenate()([input_, hidden2])\n",
    "\n",
    "# Output layer takes the inputs from the concat layer\n",
    "output = keras.layers.Dense(1)(concat)\n",
    "model = keras.Model(inputs=[input_], outputs=[output])"
   ]
  },
  {
   "cell_type": "code",
   "execution_count": 10,
   "metadata": {},
   "outputs": [],
   "source": [
    "# What if we want to send one subset of features through the deep path and one subset through the shallow path\n",
    "# We can use the functional API for this as well\n",
    "input_A = keras.layers.Input(shape=[5], name='wide_input')\n",
    "input_B = keras.layers.Input(shape=[6], name='deep_input')\n",
    "hidden1 = keras.layers.Dense(30, activation='relu')(input_B)\n",
    "hidden2 = keras.layers.Dense(30, activation='relu')(hidden1)\n",
    "concat = keras.layers.concatenate([input_A, hidden2])\n",
    "output = keras.layers.Dense(1, name='output')(concat)\n",
    "model = keras.Model(inputs=[input_A, input_B], outputs=[output])\n",
    "\n",
    "# When we call the fit model method, we must pass a pair of matrices like (input_A, input_B)\n",
    "# Alternatively, we can pass values as dictionary {'wide_input': X_train_A, 'deep_input': X_train_B}"
   ]
  },
  {
   "cell_type": "code",
   "execution_count": 11,
   "metadata": {},
   "outputs": [],
   "source": [
    "model.compile(loss='mse', optimizer=keras.optimizers.SGD(lr=1e-3))"
   ]
  },
  {
   "cell_type": "code",
   "execution_count": 12,
   "metadata": {},
   "outputs": [],
   "source": [
    "# Features 0 to 4 passed to wide and 2 to 7 passed to deep\n",
    "X_train_A, X_train_B = X_train[:, :5], X_train[:, 2:]\n",
    "X_valid_A, X_valid_B = X_valid[:, :5], X_valid[:, 2:]\n",
    "X_test_A, X_test_B = X_test[:, :5], X_test[:, 2:]\n",
    "X_new_A, X_new_B = X_test_A[:3], X_test_B[:3]\n"
   ]
  },
  {
   "cell_type": "code",
   "execution_count": 13,
   "metadata": {
    "tags": []
   },
   "outputs": [
    {
     "output_type": "stream",
     "name": "stdout",
     "text": "Epoch 1/20\n363/363 [==============================] - 2s 5ms/step - loss: 1.8806 - val_loss: 0.9521\nEpoch 2/20\n363/363 [==============================] - 2s 5ms/step - loss: 0.8254 - val_loss: 0.7325\nEpoch 3/20\n363/363 [==============================] - 2s 5ms/step - loss: 0.7277 - val_loss: 0.6748\nEpoch 4/20\n363/363 [==============================] - 1s 4ms/step - loss: 0.6789 - val_loss: 0.6348\nEpoch 5/20\n363/363 [==============================] - 1s 4ms/step - loss: 0.6426 - val_loss: 0.6040\nEpoch 6/20\n363/363 [==============================] - 2s 4ms/step - loss: 0.6131 - val_loss: 0.5789\nEpoch 7/20\n363/363 [==============================] - 2s 4ms/step - loss: 0.5883 - val_loss: 0.5581\nEpoch 8/20\n363/363 [==============================] - 2s 5ms/step - loss: 0.5676 - val_loss: 0.5405\nEpoch 9/20\n363/363 [==============================] - 2s 4ms/step - loss: 0.5507 - val_loss: 0.5267\nEpoch 10/20\n363/363 [==============================] - 2s 5ms/step - loss: 0.5368 - val_loss: 0.5154\nEpoch 11/20\n363/363 [==============================] - 2s 5ms/step - loss: 0.5259 - val_loss: 0.5072\nEpoch 12/20\n363/363 [==============================] - 1s 3ms/step - loss: 0.5172 - val_loss: 0.4999\nEpoch 13/20\n363/363 [==============================] - 1s 4ms/step - loss: 0.5103 - val_loss: 0.4938\nEpoch 14/20\n363/363 [==============================] - 1s 3ms/step - loss: 0.5043 - val_loss: 0.4895\nEpoch 15/20\n363/363 [==============================] - 1s 3ms/step - loss: 0.4997 - val_loss: 0.4851\nEpoch 16/20\n363/363 [==============================] - 1s 3ms/step - loss: 0.4957 - val_loss: 0.4813\nEpoch 17/20\n363/363 [==============================] - 1s 3ms/step - loss: 0.4920 - val_loss: 0.4791\nEpoch 18/20\n363/363 [==============================] - 1s 3ms/step - loss: 0.4891 - val_loss: 0.4763\nEpoch 19/20\n363/363 [==============================] - 1s 3ms/step - loss: 0.4867 - val_loss: 0.4733\nEpoch 20/20\n363/363 [==============================] - 1s 3ms/step - loss: 0.4839 - val_loss: 0.4720\n"
    }
   ],
   "source": [
    "# Fitting the model\n",
    "history = model.fit((X_train_A, X_train_B), y_train, epochs=20, validation_data=((X_valid_A, X_valid_B), y_valid))"
   ]
  },
  {
   "cell_type": "code",
   "execution_count": 14,
   "metadata": {
    "tags": []
   },
   "outputs": [
    {
     "output_type": "stream",
     "name": "stdout",
     "text": "162/162 [==============================] - 0s 2ms/step - loss: 0.4893\n"
    }
   ],
   "source": [
    "mse_test = model.evaluate((X_test_A, X_test_B), y_test)\n"
   ]
  },
  {
   "cell_type": "code",
   "execution_count": 15,
   "metadata": {
    "tags": []
   },
   "outputs": [
    {
     "output_type": "stream",
     "name": "stdout",
     "text": "[[3.9354904]\n [1.5702002]\n [1.7777386]]\n[5.00001 1.      1.     ]\n"
    }
   ],
   "source": [
    "y_pred = model.predict((X_new_A, X_new_B))\n",
    "print(y_pred)\n",
    "print(y_test[:3])\n"
   ]
  },
  {
   "cell_type": "code",
   "execution_count": null,
   "metadata": {},
   "outputs": [],
   "source": [
    "# It is possible to have multiple outputs\n",
    "# For example, locate and classify main object in the picture. This is both a regression task and classification task\n",
    "# Auxiliary outputs can be made to make sure network is learning something\n",
    "\n",
    "# To add extra outputs, just connect them to appropriate layers and add them to your models list of outputs\n",
    "# Example\n",
    "output = keras.layers.Dense(1, name=\"main_output\")(concat)\n",
    "aux_output = keras.layers.Dense(1, name=\"aux_output\")(hidden2)\n",
    "model = keras.Model(inputs=[input_A, input_B], outputs=[output, aux_output])\n",
    "\n",
    "# Each output will needs its own loss function\n",
    "model.compile(loss=['mse', 'mse'], loss_weights=[0.9, 0.1], optimizer='sgd')\n",
    "history = model.fit([X_train_A, X_train_B], [y_train, y_train], epochs=20, validation_data=([X_valid_A, X_valid_B], [y_valid, y_valid]))\n",
    "\n",
    "total_loss, main_loss, aux_loss = model.evaluate([X_test_A, X_test_B], [y_test, y_test])\n",
    "y_pred_main, y_pred_aux = model.predict([X_new_A, X_new_B])"
   ]
  },
  {
   "cell_type": "code",
   "execution_count": 16,
   "metadata": {},
   "outputs": [],
   "source": [
    "# Subclassing API\n",
    "# Create the layers in the constructor\n",
    "# And do the computations in the call method\n",
    "\n",
    "class WideAndDeepModel(keras.Model):\n",
    "    def __init__(self, units=30, activation='relu', **kwargs):\n",
    "        super().__init__(**kwargs) # handles the standard args (e.g. name)\n",
    "        self.hidden1 = keras.layers.Dense(units, activation=activation)\n",
    "        self.hidden2 = keras.layers.Dense(units, activation=activation)\n",
    "        self.main_output = keras.layers.Dense(1)\n",
    "        self.aux_output = keras.layers.Dense(1)\n",
    "    \n",
    "    def call(self, inputs):\n",
    "        input_A, input_B = inputs\n",
    "        hidden1 = self.hidden1(input_B)\n",
    "        hidden2 = self.hidden2(hidden1)\n",
    "        concat = keras.layers.concatenate([input_A, hidden2])\n",
    "        main_output = self.main_output(concat)\n",
    "        aux_output = self.aux_output(hidden2)\n",
    "        return main_output, aux_output\n",
    "\n",
    "model = WideAndDeepModel()\n",
    "\n",
    "# Saving and loading the model\n",
    "model.save('my_keras_model.h5')\n",
    "model = keras.model.load_model('my_keras_model.h5')\n"
   ]
  },
  {
   "cell_type": "code",
   "execution_count": null,
   "metadata": {},
   "outputs": [],
   "source": [
    "# To save states of model during training at different checkpoints, you can use callbacks to save them\n",
    "# The fit method accepts arguments that lets you specifiy objects it calls before start and end of training\n",
    "# Start and end of each epoch\n",
    "# Stat and end of processing each batch\n",
    "\n",
    "# By default saves state and end of each epoch\n",
    "# Save best only just saves the model with best performance on the validation set\n",
    "checkpoint_cb = keras.callbacks.ModelCheckpoint('my_keras.model.h5', save_best_only=True)\n",
    "history = model.fit(X_train, y_train, epochs=10, callbacks=[checkpoint_cb])\n",
    "\n",
    "# patience argument is to check how many epochs to check if the performance does not improve\n",
    "early_stopping_cb = keras.callbacks.EarlyStopping(patience=10, restore_best_weights=True)\n"
   ]
  },
  {
   "cell_type": "code",
   "execution_count": null,
   "metadata": {},
   "outputs": [],
   "source": [
    "# Implementing your own callback\n",
    "class PrintValTrainRatioCallBack(keras.callbacks.Callback):\n",
    "    def on_epoch_end(self, epoch, logs):\n",
    "        print(logs['val_loss']/logs['loss'])"
   ]
  },
  {
   "cell_type": "code",
   "execution_count": 25,
   "metadata": {
    "tags": []
   },
   "outputs": [
    {
     "output_type": "stream",
     "name": "stdout",
     "text": ".\\my_logs\\run_2020_09_12-16_06_59\n"
    }
   ],
   "source": [
    "# Tensorboard\n",
    "# To use tensorboard you have to output special binary logs call event files\n",
    "# Each binary record is called summary\n",
    "\n",
    "# The tensorboard server reads log files from directory and automatically updates the visualizations based on these\n",
    "import os\n",
    "root_logdir = os.path.join(os.curdir, 'my_logs')\n",
    "\n",
    "def get_run_logdir():\n",
    "    import time\n",
    "    run_id = time.strftime('run_%Y_%m_%d-%H_%M_%S')\n",
    "    return os.path.join(root_logdir, run_id)\n",
    "\n",
    "run_logdir = get_run_logdir()\n",
    "print(run_logdir)"
   ]
  },
  {
   "cell_type": "code",
   "execution_count": 26,
   "metadata": {
    "tags": []
   },
   "outputs": [
    {
     "output_type": "stream",
     "name": "stdout",
     "text": "Epoch 1/30\n  1/363 [..............................] - ETA: 0s - loss: 3.8327WARNING:tensorflow:From C:\\ProgramData\\Anaconda3\\envs\\deep-learning\\lib\\site-packages\\tensorflow\\python\\ops\\summary_ops_v2.py:1277: stop (from tensorflow.python.eager.profiler) is deprecated and will be removed after 2020-07-01.\nInstructions for updating:\nuse `tf.profiler.experimental.stop` instead.\n  2/363 [..............................] - ETA: 1:38 - loss: 5.0626WARNING:tensorflow:Callbacks method `on_train_batch_end` is slow compared to the batch time (batch time: 0.0070s vs `on_train_batch_end` time: 0.5338s). Check your callbacks.\n363/363 [==============================] - 3s 7ms/step - loss: 0.9976 - val_loss: 0.6717\nEpoch 2/30\n363/363 [==============================] - 2s 4ms/step - loss: 0.7764 - val_loss: 0.4954\nEpoch 3/30\n363/363 [==============================] - 2s 4ms/step - loss: 0.4695 - val_loss: 0.4800\nEpoch 4/30\n363/363 [==============================] - 1s 4ms/step - loss: 0.4517 - val_loss: 0.4657\nEpoch 5/30\n363/363 [==============================] - 1s 4ms/step - loss: 0.4415 - val_loss: 0.4552\nEpoch 6/30\n363/363 [==============================] - 1s 4ms/step - loss: 0.4293 - val_loss: 0.4483\nEpoch 7/30\n363/363 [==============================] - 2s 4ms/step - loss: 0.4221 - val_loss: 0.4440\nEpoch 8/30\n363/363 [==============================] - 2s 4ms/step - loss: 0.4131 - val_loss: 0.4372\nEpoch 9/30\n363/363 [==============================] - 2s 4ms/step - loss: 0.4058 - val_loss: 0.4293\nEpoch 10/30\n363/363 [==============================] - 2s 4ms/step - loss: 0.4015 - val_loss: 0.4218\nEpoch 11/30\n363/363 [==============================] - 2s 4ms/step - loss: 0.3953 - val_loss: 0.4208\nEpoch 12/30\n363/363 [==============================] - 1s 4ms/step - loss: 0.3909 - val_loss: 0.4108\nEpoch 13/30\n363/363 [==============================] - 1s 4ms/step - loss: 0.3869 - val_loss: 0.4125\nEpoch 14/30\n363/363 [==============================] - 2s 4ms/step - loss: 0.3840 - val_loss: 0.4048\nEpoch 15/30\n363/363 [==============================] - 2s 4ms/step - loss: 0.3853 - val_loss: 0.4067\nEpoch 16/30\n363/363 [==============================] - 1s 4ms/step - loss: 0.3797 - val_loss: 0.4029\nEpoch 17/30\n363/363 [==============================] - 1s 3ms/step - loss: 0.3838 - val_loss: 0.3973\nEpoch 18/30\n363/363 [==============================] - 1s 3ms/step - loss: 0.3782 - val_loss: 0.3944\nEpoch 19/30\n363/363 [==============================] - 2s 5ms/step - loss: 0.3718 - val_loss: 0.3947\nEpoch 20/30\n363/363 [==============================] - 2s 5ms/step - loss: 0.3650 - val_loss: 0.3927\nEpoch 21/30\n363/363 [==============================] - 2s 5ms/step - loss: 0.3635 - val_loss: 0.3887\nEpoch 22/30\n363/363 [==============================] - 2s 5ms/step - loss: 0.3624 - val_loss: 0.3845\nEpoch 23/30\n363/363 [==============================] - 2s 5ms/step - loss: 0.3611 - val_loss: 0.3853\nEpoch 24/30\n363/363 [==============================] - 2s 5ms/step - loss: 0.3585 - val_loss: 0.3806\nEpoch 25/30\n363/363 [==============================] - 2s 4ms/step - loss: 0.3550 - val_loss: 0.3878\nEpoch 26/30\n363/363 [==============================] - 2s 4ms/step - loss: 0.3612 - val_loss: 0.3919\nEpoch 27/30\n363/363 [==============================] - 2s 4ms/step - loss: 0.3529 - val_loss: 0.3790\nEpoch 28/30\n363/363 [==============================] - 2s 5ms/step - loss: 0.3521 - val_loss: 0.3837\nEpoch 29/30\n363/363 [==============================] - 2s 5ms/step - loss: 0.3672 - val_loss: 0.3758\nEpoch 30/30\n363/363 [==============================] - 2s 4ms/step - loss: 0.3505 - val_loss: 0.3755\n"
    }
   ],
   "source": [
    "# Callback for tensorboard\n",
    "tensorboard_cb = keras.callbacks.TensorBoard(run_logdir)\n",
    "history = model.fit(X_train, y_train, epochs=30,\n",
    "                    validation_data=(X_valid, y_valid),\n",
    "                    callbacks=[tensorboard_cb])"
   ]
  },
  {
   "cell_type": "code",
   "execution_count": null,
   "metadata": {},
   "outputs": [],
   "source": [
    "# Hyperparameter tuning \n",
    "# One option is wrap it like a GridSearchCV or RandomizedSearchCV in sklearn\n",
    "\n",
    "def build_model(n_hidden=1, n_nuerons=30, learning_rate=3e-3, input_shape=[8]):\n",
    "    model = keras.models.Sequential()\n",
    "    model.add(keras.layers.InputLayer(input_shape=input_shape))\n",
    "    for layer in range(n_hidden):\n",
    "        model.add(keras.layers.Dense(n_nuerons, activation='relu'))\n",
    "    model.add(keras.layers.Dense(1))\n",
    "    optimizer = keras.optimizers.SGD(lr=learning_rate)\n",
    "    model.compile(loss='mse', optimizer=optimizer)\n",
    "    return model"
   ]
  },
  {
   "cell_type": "code",
   "execution_count": 27,
   "metadata": {},
   "outputs": [
    {
     "output_type": "error",
     "ename": "SyntaxError",
     "evalue": "invalid syntax (<ipython-input-27-51fc561ecd36>, line 3)",
     "traceback": [
      "\u001b[1;36m  File \u001b[1;32m\"<ipython-input-27-51fc561ecd36>\"\u001b[1;36m, line \u001b[1;32m3\u001b[0m\n\u001b[1;33m    keras_reg.fit(X_train, y_train, epochs=100, validation_data=)\u001b[0m\n\u001b[1;37m                                                                ^\u001b[0m\n\u001b[1;31mSyntaxError\u001b[0m\u001b[1;31m:\u001b[0m invalid syntax\n"
     ]
    }
   ],
   "source": [
    "# Keras regressor is a thin wrapper around build model and we can use it like any model in scikit  learn\n",
    "keras_reg = keras.wrappers.scikit_learn.KerasRegressor(build_model)\n",
    "keras_reg.fit(X_train, y_train, epochs=100, validation_data=(X_valid, y_valid), callbacks=[keras.callbacks.EarlyStopping(patience=10)])\n",
    "mse_test = keras_reg.score(X_test, y_test)\n",
    "y_pred = keras.reg.predict(X_new)"
   ]
  },
  {
   "cell_type": "code",
   "execution_count": 28,
   "metadata": {},
   "outputs": [],
   "source": [
    "from scipy.stats import reciprocal\n",
    "import numpy as np\n",
    "from sklearn.model_selection import RandomizedSearchCV\n",
    "\n",
    "param_distribs = {\n",
    "    'n_hidden': [0, 1, 2, 3],\n",
    "    'n_nuerons': np.arange(1, 100),\n",
    "    'learning_rate': reciprocal(3e-4, 3e-2),\n",
    "}\n",
    "\n",
    "rnd_search_cv = RandomizedSearchCV(keras_reg, param_distribs, n_iter=10, cv=3)\n",
    "rnd_search_cv.fit(X_train, y_train, epochs=100, validation_data=(X_valid, y_valid), callbacks=[keras.callbacks.EarlyStopping(patience=10)])"
   ]
  }
 ],
 "metadata": {
  "kernelspec": {
   "display_name": "Deep Learning",
   "language": "python",
   "name": "deep-learning"
  },
  "language_info": {
   "codemirror_mode": {
    "name": "ipython",
    "version": 3
   },
   "file_extension": ".py",
   "mimetype": "text/x-python",
   "name": "python",
   "nbconvert_exporter": "python",
   "pygments_lexer": "ipython3",
   "version": "3.7.7-final"
  }
 },
 "nbformat": 4,
 "nbformat_minor": 4
}